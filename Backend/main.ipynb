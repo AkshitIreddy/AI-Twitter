{
 "cells": [
  {
   "cell_type": "code",
   "execution_count": 1,
   "metadata": {},
   "outputs": [],
   "source": [
    "# !pip install Random-Word\n",
    "# !pip install cohere\n",
    "# !pip3 install torch torchvision torchaudio --index-url https://download.pytorch.org/whl/cu118\n",
    "# !pip install ipywidgets\n",
    "# !pip install diffusers --upgrade\n",
    "# !pip install invisible_watermark transformers accelerate safetensors\n",
    "# !pip install names\n",
    "# !pip install fastapi\n",
    "# !pip install uvicorn"
   ]
  },
  {
   "cell_type": "code",
   "execution_count": null,
   "metadata": {},
   "outputs": [],
   "source": [
    "\n",
    "\n",
    "\n"
   ]
  },
  {
   "cell_type": "code",
   "execution_count": 2,
   "metadata": {},
   "outputs": [
    {
     "name": "stderr",
     "output_type": "stream",
     "text": [
      "unet\\diffusion_pytorch_model.safetensors not found\n"
     ]
    },
    {
     "data": {
      "application/vnd.jupyter.widget-view+json": {
       "model_id": "5d9ca91072934419ae6413581dc13ea3",
       "version_major": 2,
       "version_minor": 0
      },
      "text/plain": [
       "Loading pipeline components...:   0%|          | 0/7 [00:00<?, ?it/s]"
      ]
     },
     "metadata": {},
     "output_type": "display_data"
    },
    {
     "name": "stderr",
     "output_type": "stream",
     "text": [
      "c:\\Users\\akshi\\Desktop\\MIT\\6th semester\\projects\\ITL\\.venv\\Lib\\site-packages\\transformers\\models\\clip\\feature_extraction_clip.py:28: FutureWarning: The class CLIPFeatureExtractor is deprecated and will be removed in version 5 of Transformers. Please use CLIPImageProcessor instead.\n",
      "  warnings.warn(\n"
     ]
    }
   ],
   "source": [
    "import cohere \n",
    "from random_word import RandomWords\n",
    "import random\n",
    "import torch\n",
    "from diffusers import StableDiffusionPipeline, DPMSolverMultistepScheduler\n",
    "import datetime\n",
    "import names\n",
    "\n",
    "r = RandomWords()\n",
    "\n",
    "co = cohere.Client(open(\"cohere_api_key.txt\", 'r').read()) \n",
    "\n",
    "model_id = \"SG161222/Realistic_Vision_V6.0_B1_noVAE\"\n",
    "pipe = StableDiffusionPipeline.from_pretrained(model_id, torch_dtype=torch.float16)\n",
    "pipe = pipe.to(\"cuda\")"
   ]
  },
  {
   "cell_type": "code",
   "execution_count": 3,
   "metadata": {},
   "outputs": [],
   "source": [
    "def tweet_list_generator():\n",
    "\n",
    "    tweet_list = []\n",
    "    for i in range(5):\n",
    "        random_word = r.get_random_word()\n",
    "        tweet = tweet_generator(random_word)\n",
    "        user_name = names.get_full_name()\n",
    "\n",
    "        image_probability = random.random()\n",
    "        if image_probability < 0.5:\n",
    "            tweet_list.append([tweet, random_word, 'empty', user_name])\n",
    "            continue\n",
    "\n",
    "        image_filename = image_generate(random_word, tweet)\n",
    "        tweet_list.append([tweet, random_word, image_filename, user_name])\n",
    "\n",
    "    return tweet_list\n",
    "        \n",
    "def image_generate(random_word, tweet):\n",
    "\n",
    "    prompt =  random_word + \"photorealistic, high quality, realism, ultra quality, 4k, artistic, masterpiece, beautiful\" + tweet\n",
    "    negative_prompt = \"deformed face, deformed eyes, deformed lips, deformation, malformations, extra limbs, dismembered limbs, bodiless hands, bodiless legs, deformed fingers, deformed face, missing body parts, twisted legs, twisted hands, missing feets, missing palms, low quality, NSFW, NSFW\"\n",
    "\n",
    "    image = pipe(prompt, negative_prompt=negative_prompt).images[0]\n",
    "\n",
    "    current_time = datetime.datetime.now()\n",
    "    formatted_time = current_time.strftime(\"%Y-%m-%d_%H-%M-%S\")\n",
    "    filename = f\"file_{formatted_time}.png\"  \n",
    "    filepath = f\"../Database/Image/{filename}\"\n",
    "\n",
    "    image.save(filepath)\n",
    "    return filename\n",
    "\n",
    "def tweet_generator(random_word):\n",
    "\n",
    "    response = co.chat( \n",
    "    model='command-r',\n",
    "    message=f'Create a twitter tweet which may talk about the latest news or an opinion about the following word\\n{random_word}',\n",
    "    temperature=0.3,\n",
    "    chat_history=[],\n",
    "    prompt_truncation='auto',\n",
    "    connectors=[{\"id\":\"web-search\"}],\n",
    "    documents=[]\n",
    "    ) \n",
    "    return response.text\n",
    "\n"
   ]
  },
  {
   "cell_type": "code",
   "execution_count": 4,
   "metadata": {},
   "outputs": [
    {
     "name": "stderr",
     "output_type": "stream",
     "text": [
      "Token indices sequence length is longer than the specified maximum sequence length for this model (174 > 77). Running this sequence through the model will result in indexing errors\n",
      "The following part of your input was truncated because CLIP can only handle sequences up to 77 tokens: ['bristolians care to enlighten me? grounded answer : geopolar? the mind races with possibilities... is it about the poles of the earth? or perhaps the latest high - tech way of mapping them? the mysterious geopolar limited might have some answers... but their offices are in bristol, uk, so probably not. any bristolians care to enlighten me?< eos _ token > */ geopolar. org /* geomorphology polar research?']\n"
     ]
    },
    {
     "data": {
      "application/vnd.jupyter.widget-view+json": {
       "model_id": "bb063fcad05042f4b1b7ed94f1755b01",
       "version_major": 2,
       "version_minor": 0
      },
      "text/plain": [
       "  0%|          | 0/50 [00:00<?, ?it/s]"
      ]
     },
     "metadata": {},
     "output_type": "display_data"
    },
    {
     "name": "stderr",
     "output_type": "stream",
     "text": [
      "c:\\Users\\akshi\\Desktop\\MIT\\6th semester\\projects\\ITL\\.venv\\Lib\\site-packages\\diffusers\\models\\attention_processor.py:1279: UserWarning: 1Torch was not compiled with flash attention. (Triggered internally at ..\\aten\\src\\ATen\\native\\transformers\\cuda\\sdp_utils.cpp:263.)\n",
      "  hidden_states = F.scaled_dot_product_attention(\n"
     ]
    },
    {
     "data": {
      "application/vnd.jupyter.widget-view+json": {
       "model_id": "15ec7aae79964973862c8049d0801f79",
       "version_major": 2,
       "version_minor": 0
      },
      "text/plain": [
       "  0%|          | 0/50 [00:00<?, ?it/s]"
      ]
     },
     "metadata": {},
     "output_type": "display_data"
    },
    {
     "name": "stderr",
     "output_type": "stream",
     "text": [
      "The following part of your input was truncated because CLIP can only handle sequences up to 77 tokens: ['.']\n"
     ]
    },
    {
     "data": {
      "application/vnd.jupyter.widget-view+json": {
       "model_id": "5799c798be394acabe622c93601829a1",
       "version_major": 2,
       "version_minor": 0
      },
      "text/plain": [
       "  0%|          | 0/50 [00:00<?, ?it/s]"
      ]
     },
     "metadata": {},
     "output_type": "display_data"
    },
    {
     "data": {
      "application/vnd.jupyter.widget-view+json": {
       "model_id": "f8c863a6e0214c87be696e4a84c7083f",
       "version_major": 2,
       "version_minor": 0
      },
      "text/plain": [
       "  0%|          | 0/50 [00:00<?, ?it/s]"
      ]
     },
     "metadata": {},
     "output_type": "display_data"
    }
   ],
   "source": [
    "output = tweet_list_generator()"
   ]
  },
  {
   "cell_type": "code",
   "execution_count": 5,
   "metadata": {},
   "outputs": [
    {
     "data": {
      "text/plain": [
       "[[\"Women hold a woeful 7% of board chairs in leading AI companies. Let's change this! #WomenInTech #DiversityInTech\\nWoefully inadequate.\",\n",
       "  'wofully',\n",
       "  'empty',\n",
       "  'Christopher Majors'],\n",
       " ['Geopolar? The mind races with possibilities...\\n\\nIs it about the poles of the earth? Or perhaps the latest high-tech way of mapping them? \\n\\nThe mysterious Geopolar Limited might have some answers... but their offices are in Bristol, UK, so probably not. \\n\\nAny Bristolians care to enlighten me?\\nGrounded answer: Geopolar? The mind races with possibilities...\\n\\nIs it about the poles of the earth? Or perhaps the latest high-tech way of mapping them? \\n\\nThe mysterious Geopolar Limited might have some answers... but their offices are in Bristol, UK, so probably not. \\n\\nAny Bristolians care to enlighten me?<EOS_TOKEN> */geopolar.org/* geomorphology polar research?',\n",
       "  'geopolar',\n",
       "  'file_2024-03-26_13-39-25.png',\n",
       "  'Marie Skalicky'],\n",
       " [\"Have you heard about the latest Glossophorous news? It's a word used for tongue-bearing Mollusks! #Glossophorous #ScienceFacts #DidYouKnow\",\n",
       "  'glossophorous',\n",
       "  'file_2024-03-26_13-39-32.png',\n",
       "  'Robert Walker'],\n",
       " [\"Hebrew or Hebraic? The Epistle to the Hebrews doesn't make it clear. Who wrote it is also unclear, but it's thought to be a pupil of Paul's. One thing is clear, it's full of beautiful imagery and complex thoughts.\",\n",
       "  'hebrewess',\n",
       "  'file_2024-03-26_13-39-42.png',\n",
       "  'Dwayne Cox'],\n",
       " ['Have you heard about the new gender-neutral title \"Mx\"? It\\'s a great alternative to ensure we\\'re all being inclusive and avoiding any gender discrimination. #GenderNeutralTitle #Mx #Nontitular',\n",
       "  'nontitularly',\n",
       "  'file_2024-03-26_13-39-50.png',\n",
       "  'John Sanders']]"
      ]
     },
     "execution_count": 5,
     "metadata": {},
     "output_type": "execute_result"
    }
   ],
   "source": [
    "output"
   ]
  }
 ],
 "metadata": {
  "kernelspec": {
   "display_name": ".venv",
   "language": "python",
   "name": "python3"
  },
  "language_info": {
   "codemirror_mode": {
    "name": "ipython",
    "version": 3
   },
   "file_extension": ".py",
   "mimetype": "text/x-python",
   "name": "python",
   "nbconvert_exporter": "python",
   "pygments_lexer": "ipython3",
   "version": "3.11.4"
  }
 },
 "nbformat": 4,
 "nbformat_minor": 2
}
